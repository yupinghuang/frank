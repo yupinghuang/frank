{
 "cells": [
  {
   "cell_type": "code",
   "execution_count": 2,
   "id": "civil-scholar",
   "metadata": {},
   "outputs": [
    {
     "name": "stdout",
     "output_type": "stream",
     "text": [
      "Error importing OpenCL: ('/opt/lib/libidg-opencl.so: cannot open shared object file: No such file or directory',)\n"
     ]
    }
   ],
   "source": [
    "from casacore.tables import table\n",
    "import numpy as np\n",
    "\n",
    "import idg.util as util\n",
    "import idg"
   ]
  },
  {
   "cell_type": "markdown",
   "id": "active-bottom",
   "metadata": {},
   "source": [
    "Notes on IO: It's quite a bit faster to read everything and then zero out the autocorr than use `tcross  = t.query('ANTENNA1!=ANTENNA2')` to get the cross corrs.\n",
    "\n",
    "On 1chan 9000 int, the read with query takes 6 min and read with zeroing out autocorrs takes 4min."
   ]
  },
  {
   "cell_type": "code",
   "execution_count": 3,
   "id": "heavy-forge",
   "metadata": {},
   "outputs": [
    {
     "name": "stdout",
     "output_type": "stream",
     "text": [
      "Successful readonly open of default-locked table /fastpool/data/20210226M-2GHz-1chan-600int.ms: 25 columns, 1257676800 rows\n",
      "Successful readonly open of default-locked table /fastpool/data/20210226M-2GHz-1chan-600int.ms/ANTENNA: 8 columns, 2048 rows\n",
      "Successful readonly open of default-locked table /fastpool/data/20210226M-2GHz-1chan-600int.ms/SPECTRAL_WINDOW: 14 columns, 1 rows\n"
     ]
    }
   ],
   "source": [
    "with table('/fastpool/data/20210226M-2GHz-1chan-600int.ms') as t:\n",
    "    t_ant = table(t.getkeyword(\"ANTENNA\"))\n",
    "    t_spw = table(t.getkeyword(\"SPECTRAL_WINDOW\"))\n",
    "    frequencies = np.asarray(t_spw[0]['CHAN_FREQ'], dtype=np.float32)"
   ]
  },
  {
   "cell_type": "code",
   "execution_count": 2,
   "id": "personal-message",
   "metadata": {},
   "outputs": [
    {
     "name": "stdout",
     "output_type": "stream",
     "text": [
      "Successful readonly open of default-locked table /fastpool/data/20210226M-2GHz-1chan-9000int.ms: 25 columns, 1257676800 rows\n",
      "CPU times: user 4min 35s, sys: 1min 17s, total: 5min 52s\n",
      "Wall time: 6min 9s\n"
     ]
    }
   ],
   "source": [
    "%%time\n",
    "with table('/fastpool/data/20210226M-2GHz-1chan-600int.ms') as t:\n",
    "    tcross  = t.query('ANTENNA1!=ANTENNA2')\n",
    "    vis = tcross.getcol('DATA')\n",
    "    ant1 = tcross.getcol('ANTENNA1')\n",
    "    ant2 = tcross.getcol('ANTENNA2')\n",
    "    uvw = tcross.getcol('UVW')"
   ]
  },
  {
   "cell_type": "code",
   "execution_count": 4,
   "id": "japanese-motor",
   "metadata": {},
   "outputs": [
    {
     "name": "stdout",
     "output_type": "stream",
     "text": [
      "Successful readonly open of default-locked table /fastpool/data/20210226M-2GHz-1chan-600int.ms: 25 columns, 1257676800 rows\n",
      "CPU times: user 2min 59s, sys: 58.2 s, total: 3min 57s\n",
      "Wall time: 3min 56s\n"
     ]
    }
   ],
   "source": [
    "%%time\n",
    "with table('/fastpool/data/20210226M-2GHz-1chan-600int.ms') as t:\n",
    "    vis = t.getcol('DATA')\n",
    "    ant1 = t.getcol('ANTENNA1')\n",
    "    ant2 = t.getcol('ANTENNA2')\n",
    "    uvw = t.getcol('UVW')\n",
    "vis[ant1 == ant2] = 0"
   ]
  },
  {
   "cell_type": "code",
   "execution_count": 6,
   "id": "important-registrar",
   "metadata": {},
   "outputs": [
    {
     "name": "stdout",
     "output_type": "stream",
     "text": [
      "(1257676800, 1, 4)\n",
      "(1257676800,)\n",
      "(1257676800, 3)\n"
     ]
    }
   ],
   "source": [
    "print(vis.shape)\n",
    "print(ant1.shape)\n",
    "print(uvw.shape)"
   ]
  },
  {
   "cell_type": "code",
   "execution_count": 13,
   "id": "million-strain",
   "metadata": {},
   "outputs": [],
   "source": [
    "nr_stations = len(t_ant)\n",
    "nr_baselines = (nr_stations * (nr_stations - 1)) // 2\n",
    "nr_channels = 1\n",
    "nr_timesteps = 600\n",
    "# Number of aterms to generate\n",
    "nr_timeslots = 1\n",
    "nr_correlations = 4\n",
    "grid_size = 4096\n",
    "image_size = 4096\n",
    "subgrid_size = 32\n",
    "kernel_size = 16\n",
    "cell_size = image_size / grid_size"
   ]
  },
  {
   "cell_type": "code",
   "execution_count": 11,
   "id": "talented-emergency",
   "metadata": {},
   "outputs": [
    {
     "data": {
      "text/plain": [
       "2048"
      ]
     },
     "execution_count": 11,
     "metadata": {},
     "output_type": "execute_result"
    }
   ],
   "source": [
    "nr_stations"
   ]
  },
  {
   "cell_type": "code",
   "execution_count": 12,
   "id": "atmospheric-gathering",
   "metadata": {},
   "outputs": [
    {
     "data": {
      "text/plain": [
       "2096128"
      ]
     },
     "execution_count": 12,
     "metadata": {},
     "output_type": "execute_result"
    }
   ],
   "source": [
    "nr_baselines"
   ]
  },
  {
   "cell_type": "code",
   "execution_count": 9,
   "id": "decreased-cambridge",
   "metadata": {},
   "outputs": [
    {
     "data": {
      "text/plain": [
       "0"
      ]
     },
     "execution_count": 9,
     "metadata": {},
     "output_type": "execute_result"
    }
   ],
   "source": [
    "(nr_baselines) * 600 - uvw.shape[0]"
   ]
  },
  {
   "cell_type": "markdown",
   "id": "parallel-bristol",
   "metadata": {},
   "source": [
    "I guess for these simulator-simulated measurement sets the autocorrelations just aren't even there..."
   ]
  },
  {
   "cell_type": "code",
   "execution_count": 15,
   "id": "spread-course",
   "metadata": {},
   "outputs": [],
   "source": [
    "aterms = util.get_identity_aterms(nr_timeslots, nr_stations, subgrid_size, nr_correlations)\n",
    "aterms_offsets = util.get_example_aterms_offset(nr_timeslots, nr_timesteps)"
   ]
  },
  {
   "cell_type": "code",
   "execution_count": 16,
   "id": "exciting-category",
   "metadata": {},
   "outputs": [
    {
     "data": {
      "text/plain": [
       "(1, 2048, 32, 32, 4)"
      ]
     },
     "execution_count": 16,
     "metadata": {},
     "output_type": "execute_result"
    }
   ],
   "source": [
    "aterms.shape"
   ]
  },
  {
   "cell_type": "code",
   "execution_count": 17,
   "id": "trying-customs",
   "metadata": {},
   "outputs": [
    {
     "data": {
      "text/plain": [
       "(2,)"
      ]
     },
     "execution_count": 17,
     "metadata": {},
     "output_type": "execute_result"
    }
   ],
   "source": [
    "aterms_offsets.shape"
   ]
  },
  {
   "cell_type": "code",
   "execution_count": 17,
   "id": "informative-governor",
   "metadata": {},
   "outputs": [
    {
     "data": {
      "text/plain": [
       "array([0, 1], dtype=int32)"
      ]
     },
     "execution_count": 17,
     "metadata": {},
     "output_type": "execute_result"
    }
   ],
   "source": [
    "aterms_offsets"
   ]
  },
  {
   "cell_type": "code",
   "execution_count": 18,
   "id": "instructional-question",
   "metadata": {},
   "outputs": [
    {
     "data": {
      "text/plain": [
       "array([[1.+0.j, 1.+0.j, 1.+0.j, ..., 1.+0.j, 1.+0.j, 1.+0.j],\n",
       "       [1.+0.j, 1.+0.j, 1.+0.j, ..., 1.+0.j, 1.+0.j, 1.+0.j],\n",
       "       [1.+0.j, 1.+0.j, 1.+0.j, ..., 1.+0.j, 1.+0.j, 1.+0.j],\n",
       "       ...,\n",
       "       [1.+0.j, 1.+0.j, 1.+0.j, ..., 1.+0.j, 1.+0.j, 1.+0.j],\n",
       "       [1.+0.j, 1.+0.j, 1.+0.j, ..., 1.+0.j, 1.+0.j, 1.+0.j],\n",
       "       [1.+0.j, 1.+0.j, 1.+0.j, ..., 1.+0.j, 1.+0.j, 1.+0.j]],\n",
       "      dtype=complex64)"
      ]
     },
     "execution_count": 18,
     "metadata": {},
     "output_type": "execute_result"
    }
   ],
   "source": [
    "aterms[0,0,:,:,0]"
   ]
  },
  {
   "cell_type": "markdown",
   "id": "neutral-renewal",
   "metadata": {},
   "source": [
    "Shapes of things from the demo script:\n",
    "```\n",
    "# Reshape data\n",
    "antenna1_block = np.reshape(antenna1_block,\n",
    "                            newshape=(nr_timesteps, nr_baselines))\n",
    "antenna2_block = np.reshape(antenna2_block,\n",
    "                            newshape=(nr_timesteps, nr_baselines))\n",
    "uvw_block = np.reshape(uvw_block,\n",
    "                       newshape=(nr_timesteps, nr_baselines, 3))\n",
    "vis_block = np.reshape(vis_block,\n",
    "                       newshape=(nr_timesteps, nr_baselines,\n",
    "                                 nr_channels, nr_correlations))\n",
    "\n",
    "# Transpose data\n",
    "for t in range(nr_timesteps):\n",
    "    for bl in range(nr_baselines):\n",
    "        # Set baselines\n",
    "        antenna1 = antenna1_block[t][bl]\n",
    "        antenna2 = antenna2_block[t][bl]\n",
    "\n",
    "        baselines[bl] = (antenna1, antenna2)\n",
    "\n",
    "        # Set uvw\n",
    "        uvw_ = uvw_block[t][bl]\n",
    "        uvw[bl][t] = uvw_\n",
    "\n",
    "        # Set visibilities\n",
    "        visibilities[bl][t] = vis_block[t][bl]\n",
    "```"
   ]
  },
  {
   "cell_type": "markdown",
   "id": "neither-promise",
   "metadata": {},
   "source": [
    "# Now redo the input"
   ]
  },
  {
   "cell_type": "code",
   "execution_count": 3,
   "id": "suspected-certificate",
   "metadata": {},
   "outputs": [
    {
     "name": "stdout",
     "output_type": "stream",
     "text": [
      "Successful readonly open of default-locked table /fastpool/data/20210226M-2GHz-1chan-600int.ms: 25 columns, 1257676800 rows\n",
      "Successful readonly open of default-locked table /fastpool/data/20210226M-2GHz-1chan-600int.ms/ANTENNA: 8 columns, 2048 rows\n",
      "Successful readonly open of default-locked table /fastpool/data/20210226M-2GHz-1chan-600int.ms/SPECTRAL_WINDOW: 14 columns, 1 rows\n"
     ]
    }
   ],
   "source": [
    "with table('/fastpool/data/20210226M-2GHz-1chan-600int.ms') as t:\n",
    "    vis = t.getcol('DATA')\n",
    "    ant1 = t.getcol('ANTENNA1')\n",
    "    ant2 = t.getcol('ANTENNA2')\n",
    "    uvw = t.getcol('UVW')\n",
    "    t_ant = table(t.getkeyword(\"ANTENNA\"))\n",
    "    t_spw = table(t.getkeyword(\"SPECTRAL_WINDOW\"))\n",
    "    frequencies = np.asarray(t_spw[0]['CHAN_FREQ'], dtype=np.float32)\n",
    "\n",
    "vis[ant1 == ant2] = 0\n",
    "\n",
    "nr_stations = len(t_ant)\n",
    "nr_baselines = (nr_stations * (nr_stations - 1)) // 2\n",
    "nr_channels = 1\n",
    "nr_timesteps = 600\n",
    "# Number of aterms to generate\n",
    "nr_timeslots = 1\n",
    "nr_correlations = 4\n",
    "grid_size = 4096\n",
    "image_size = 4096\n",
    "subgrid_size = 32\n",
    "kernel_size = 16\n",
    "cell_size = image_size / grid_size\n",
    "\n",
    "ant1 = ant1.reshape((nr_timesteps, nr_baselines))\n",
    "ant2 = ant2.reshape((nr_timesteps, nr_baselines))\n",
    "uvw_orig = uvw.reshape((nr_timesteps, nr_baselines, 3))\n",
    "vis = vis.reshape((nr_timesteps, nr_baselines, nr_channels, nr_correlations))\n",
    "\n",
    "\n",
    "vis = np.ascontiguousarray(np.swapaxes(vis, 0, 1).astype(idg.visibilitiestype))"
   ]
  },
  {
   "cell_type": "code",
   "execution_count": 4,
   "id": "domestic-sandwich",
   "metadata": {},
   "outputs": [],
   "source": [
    "baselines = np.zeros(shape=(nr_baselines), dtype=idg.baselinetype)\n",
    "baselines['station1'] = ant1[0]\n",
    "baselines['station2'] = ant2[0]"
   ]
  },
  {
   "cell_type": "code",
   "execution_count": 5,
   "id": "indian-shift",
   "metadata": {},
   "outputs": [],
   "source": [
    "uvw = np.zeros(shape=(nr_baselines, nr_timesteps), dtype=idg.uvwtype)\n",
    "uvw_orig = np.swapaxes(uvw_orig,0, 1)\n",
    "uvw['u'] = uvw_orig[:, :, 0 ]\n",
    "uvw['v'] = uvw_orig[:, :, 1]\n",
    "uvw['w'] = uvw_orig[:, :, 2]"
   ]
  },
  {
   "cell_type": "code",
   "execution_count": 9,
   "id": "subsequent-detection",
   "metadata": {},
   "outputs": [],
   "source": [
    "shift = np.zeros(3, dtype=np.float32)\n",
    "w_step = 0.0"
   ]
  },
  {
   "cell_type": "code",
   "execution_count": 5,
   "id": "processed-usage",
   "metadata": {},
   "outputs": [
    {
     "data": {
      "text/plain": [
       "dtype([('station1', '<i4'), ('station2', '<i4')])"
      ]
     },
     "execution_count": 5,
     "metadata": {},
     "output_type": "execute_result"
    }
   ],
   "source": [
    "idg.baselinetype"
   ]
  },
  {
   "cell_type": "code",
   "execution_count": 8,
   "id": "strategic-ideal",
   "metadata": {},
   "outputs": [],
   "source": [
    "proxy = idg.HybridCUDA.GenericOptimized()"
   ]
  },
  {
   "cell_type": "code",
   "execution_count": null,
   "id": "south-vatican",
   "metadata": {},
   "outputs": [],
   "source": [
    "proxy.init_cache(subgrid_size, cell_size, w_step, shift)"
   ]
  },
  {
   "cell_type": "code",
   "execution_count": 7,
   "id": "speaking-associate",
   "metadata": {},
   "outputs": [],
   "source": [
    "grid = util.get_example_grid(nr_correlations, grid_size)"
   ]
  },
  {
   "cell_type": "code",
   "execution_count": 8,
   "id": "artificial-partnership",
   "metadata": {},
   "outputs": [
    {
     "data": {
      "text/plain": [
       "(4, 4096, 4096)"
      ]
     },
     "execution_count": 8,
     "metadata": {},
     "output_type": "execute_result"
    }
   ],
   "source": [
    "grid.shape"
   ]
  },
  {
   "cell_type": "code",
   "execution_count": 9,
   "id": "applicable-louisville",
   "metadata": {},
   "outputs": [],
   "source": [
    "aterms = util.get_identity_aterms(nr_timeslots, nr_stations, subgrid_size, nr_correlations)\n",
    "aterms_offsets = util.get_example_aterms_offset(nr_timeslots, nr_timesteps)"
   ]
  },
  {
   "cell_type": "code",
   "execution_count": 10,
   "id": "departmental-minimum",
   "metadata": {},
   "outputs": [
    {
     "data": {
      "text/plain": [
       "(1, 2048, 32, 32, 4)"
      ]
     },
     "execution_count": 10,
     "metadata": {},
     "output_type": "execute_result"
    }
   ],
   "source": [
    "aterms.shape"
   ]
  },
  {
   "cell_type": "code",
   "execution_count": 11,
   "id": "specified-nudist",
   "metadata": {},
   "outputs": [],
   "source": [
    "spheroidal = util.get_example_spheroidal(subgrid_size)"
   ]
  },
  {
   "cell_type": "code",
   "execution_count": null,
   "id": "chronic-assurance",
   "metadata": {},
   "outputs": [],
   "source": [
    "%timeit\n",
    "proxy.gridding(kernel_size, frequencies, vis, uvw, baselines, aterms, aterms_offsets, spheroidal)"
   ]
  },
  {
   "cell_type": "code",
   "execution_count": null,
   "id": "random-child",
   "metadata": {},
   "outputs": [],
   "source": []
  }
 ],
 "metadata": {
  "kernelspec": {
   "display_name": "frank",
   "language": "python",
   "name": "frank"
  },
  "language_info": {
   "codemirror_mode": {
    "name": "ipython",
    "version": 3
   },
   "file_extension": ".py",
   "mimetype": "text/x-python",
   "name": "python",
   "nbconvert_exporter": "python",
   "pygments_lexer": "ipython3",
   "version": "3.8.13"
  }
 },
 "nbformat": 4,
 "nbformat_minor": 5
}
